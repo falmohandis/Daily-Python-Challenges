{
 "cells": [
  {
   "cell_type": "code",
   "execution_count": null,
   "id": "3dcd548a",
   "metadata": {},
   "outputs": [],
   "source": [
    "# Python List Operations Challenges"
   ]
  },
  {
   "cell_type": "code",
   "execution_count": 2,
   "id": "ad5f333e",
   "metadata": {},
   "outputs": [
    {
     "name": "stdout",
     "output_type": "stream",
     "text": [
      "[1, 2, 3, 4, 5]\n",
      "[1, 4, 9, 16, 25]\n"
     ]
    }
   ],
   "source": [
    "# 1. Write a function that takes a list of numbers and returns a new list with each number squared.\n",
    "def squared_numbers (list):\n",
    "    return [x ** 2 for x in list]\n",
    "\n",
    "# Test\n",
    "x= [1, 2, 3, 4, 5]\n",
    "print(x)\n",
    "print(squared_numbers(x))\n"
   ]
  },
  {
   "cell_type": "code",
   "execution_count": 6,
   "id": "a87c1b4d",
   "metadata": {},
   "outputs": [
    {
     "name": "stdout",
     "output_type": "stream",
     "text": [
      "['apple', 'banana', 'avocado', 'grape', 'apricot']\n",
      "['apple', 'avocado', 'apricot']\n"
     ]
    }
   ],
   "source": [
    "# 2. Given a list of strings, write a function that returns a list containing only the strings that start with the letter 'a'.\n",
    "def return_strings_starting_with_a(list):\n",
    "    goal=[]\n",
    "    for i in list:\n",
    "        if i[0]=='a':\n",
    "            goal.append(i)\n",
    "    return goal\n",
    "# Test\n",
    "x = ['apple', 'banana', 'avocado', 'grape', 'apricot']\n",
    "print(x)\n",
    "print(return_strings_starting_with_a(x))"
   ]
  },
  {
   "cell_type": "code",
   "execution_count": 7,
   "id": "61d48fc3",
   "metadata": {},
   "outputs": [
    {
     "name": "stdout",
     "output_type": "stream",
     "text": [
      "['apple', 'banana', 'avocado', 'grape', 'apricot']\n",
      "['apple', 'avocado', 'apricot']\n"
     ]
    }
   ],
   "source": [
    "# More elegant solution\n",
    "def return_strings_starting_with_a_alt(list):\n",
    "    return [i for i in list if i[0] == 'a']\n",
    "print(x)\n",
    "print(return_strings_starting_with_a_alt(x))"
   ]
  },
  {
   "cell_type": "markdown",
   "id": "48f8d292",
   "metadata": {},
   "source": []
  },
  {
   "cell_type": "code",
   "execution_count": 1,
   "id": "42fb27c6",
   "metadata": {},
   "outputs": [
    {
     "name": "stdout",
     "output_type": "stream",
     "text": [
      "[1, 2, 2, 3, 4, 4, 5]\n",
      "[1, 2, 3, 4, 5]\n"
     ]
    }
   ],
   "source": [
    "# 3. Write a function that removes all duplicate elements from a list while preserving the original order.\n",
    "def remove_duplicates(list):\n",
    "    for i in list:\n",
    "        while list.count(i) > 1:\n",
    "            list.remove(i)\n",
    "    return list\n",
    "\n",
    "# Test\n",
    "x = [1, 2, 2, 3, 4, 4, 5]\n",
    "print(x)\n",
    "print(remove_duplicates(x)) "
   ]
  },
  {
   "cell_type": "code",
   "execution_count": null,
   "id": "d31287e7",
   "metadata": {},
   "outputs": [],
   "source": [
    "# 4. Given two lists, write a function that returns a list containing only the elements that are present in both lists.\n"
   ]
  },
  {
   "cell_type": "code",
   "execution_count": null,
   "id": "18f7a440",
   "metadata": {},
   "outputs": [],
   "source": [
    "# 5. Write a function that takes a list and returns the list reversed, without using the built-in reverse() method.\n"
   ]
  },
  {
   "cell_type": "code",
   "execution_count": null,
   "id": "5b7198ae",
   "metadata": {},
   "outputs": [],
   "source": [
    "# 6. Write a function that flattens a nested list (a list of lists) into a single list.\n"
   ]
  },
  {
   "cell_type": "code",
   "execution_count": null,
   "id": "9f2ba4f6",
   "metadata": {},
   "outputs": [],
   "source": [
    "# 7. Given a list of integers, write a function that returns the second largest number in the list.\n",
    "\n"
   ]
  },
  {
   "cell_type": "code",
   "execution_count": null,
   "id": "a35c2240",
   "metadata": {},
   "outputs": [],
   "source": [
    "# 8. Write a function that rotates a list to the right by k steps.\n",
    "\n"
   ]
  },
  {
   "cell_type": "code",
   "execution_count": null,
   "id": "3594f516",
   "metadata": {},
   "outputs": [],
   "source": [
    "# 9. Write a function that counts the frequency of each element in a list and returns a dictionary.\n"
   ]
  },
  {
   "cell_type": "code",
   "execution_count": null,
   "id": "a1a3aa5a",
   "metadata": {},
   "outputs": [],
   "source": [
    "# 10. Given a list of numbers, write a function that returns True if the list is sorted in ascending order, and False otherwise."
   ]
  }
 ],
 "metadata": {
  "kernelspec": {
   "display_name": "base",
   "language": "python",
   "name": "python3"
  },
  "language_info": {
   "codemirror_mode": {
    "name": "ipython",
    "version": 3
   },
   "file_extension": ".py",
   "mimetype": "text/x-python",
   "name": "python",
   "nbconvert_exporter": "python",
   "pygments_lexer": "ipython3",
   "version": "3.11.5"
  }
 },
 "nbformat": 4,
 "nbformat_minor": 5
}
