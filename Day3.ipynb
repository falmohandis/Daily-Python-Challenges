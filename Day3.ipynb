{
 "cells": [
  {
   "cell_type": "markdown",
   "id": "2761e825",
   "metadata": {},
   "source": [
    "# Python Loop Challenges\n",
    "\n",
    "Here are some challenges to practice your understanding of loops in Python:\n",
    "\n",
    "\n",
    "\n",
    "1. **Sum of Numbers**\n",
    "   - Write a program that calculates the sum of all numbers from 1 to 100 using a loop.\n",
    "\n",
    "\n",
    "\n",
    "2. **Multiplication Table**\n",
    "   - Print the multiplication table of a number entered by the user (from 1 to 10).\n",
    "\n",
    "\n",
    "\n",
    "3. **List Even Numbers**\n",
    "   - Given a list of numbers, print only the even numbers using a loop.\n",
    "\n",
    "\n",
    "\n",
    "4. **Reverse a String**\n",
    "   - Use a loop to reverse a string provided by the user.\n",
    "\n",
    "\n",
    "\n",
    "5. **Find Factorial**\n",
    "   - Write a program to find the factorial of a number using a loop.\n",
    "\n",
    "\n",
    "\n",
    "---\n",
    "\n",
    "\n",
    "\n",
    "Use the next cell to solve any of the above challenges!"
   ]
  },
  {
   "cell_type": "code",
   "execution_count": 2,
   "id": "d80c483f",
   "metadata": {},
   "outputs": [
    {
     "name": "stdout",
     "output_type": "stream",
     "text": [
      "Sum from 1 to 100: 5050\n"
     ]
    }
   ],
   "source": [
    "# Write your solution here\n",
    "# Example: Sum of numbers from 1 to 100\n",
    "sum_ = 0\n",
    "for i in range(1, 101):\n",
    "    sum_ += i\n",
    "print('Sum from 1 to 100:', sum_)\n",
    "\n",
    "# Try the other challenges below!"
   ]
  },
  {
   "cell_type": "code",
   "execution_count": null,
   "id": "2195b2e6",
   "metadata": {},
   "outputs": [
    {
     "name": "stdout",
     "output_type": "stream",
     "text": [
      "Sum from 1 to 100: 5050\n"
     ]
    }
   ],
   "source": [
    "#Alternative solutions\n",
    "\n",
    "i,sum=0,0\n",
    "while i<101:\n",
    "    sum=sum+i\n",
    "    i += 1\n",
    "print('Sum from 1 to 100:', sum)"
   ]
  },
  {
   "cell_type": "code",
   "execution_count": 1,
   "id": "e1e7ba70",
   "metadata": {},
   "outputs": [
    {
     "name": "stdout",
     "output_type": "stream",
     "text": [
      "5\n",
      "10\n",
      "15\n",
      "20\n",
      "25\n",
      "30\n",
      "35\n",
      "40\n",
      "45\n",
      "50\n",
      "None\n"
     ]
    }
   ],
   "source": [
    "# Print the multiplication table of a number entered by the user (from 1 to 10).\n",
    "def print_multiplication_table(number):\n",
    "    for i in range(1,11):\n",
    "        print(i*number)\n",
    "\n",
    "print(print_multiplication_table(5))  # Example usage with number 5"
   ]
  },
  {
   "cell_type": "code",
   "execution_count": 7,
   "id": "f3f3dd64",
   "metadata": {},
   "outputs": [
    {
     "ename": "",
     "evalue": "",
     "output_type": "error",
     "traceback": [
      "\u001b[1;31mCannot execute code, session has been disposed. Please try restarting the Kernel."
     ]
    },
    {
     "ename": "",
     "evalue": "",
     "output_type": "error",
     "traceback": [
      "\u001b[1;31mCannot execute code, session has been disposed. Please try restarting the Kernel. \n",
      "\u001b[1;31mView Jupyter <a href='command:jupyter.viewOutput'>log</a> for further details."
     ]
    }
   ],
   "source": [
    "# Print the multiplication table of a number entered by the user (from 1 to 10).\n",
    "number = int(input(\"Enter a number to print its multiplication table: \"))\n",
    "for i in range(1, 11):\n",
    "    print(f\"{number} x {i} = {number * i}\")"
   ]
  },
  {
   "cell_type": "code",
   "execution_count": null,
   "id": "0fc1e703",
   "metadata": {},
   "outputs": [],
   "source": []
  }
 ],
 "metadata": {
  "kernelspec": {
   "display_name": "base",
   "language": "python",
   "name": "python3"
  },
  "language_info": {
   "codemirror_mode": {
    "name": "ipython",
    "version": 3
   },
   "file_extension": ".py",
   "mimetype": "text/x-python",
   "name": "python",
   "nbconvert_exporter": "python",
   "pygments_lexer": "ipython3",
   "version": "3.11.5"
  }
 },
 "nbformat": 4,
 "nbformat_minor": 5
}
